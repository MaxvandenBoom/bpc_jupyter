{
 "cells": [
  {
   "cell_type": "markdown",
   "metadata": {},
   "source": [
    "# Basis profile curve identification to understand electrical stimulation effects in human brain networks\n",
    "\n",
    "Method developed in Matlab by Kai J. Miller, available at Miller KJ, Mueller KR, Hermes D. Basis profile curve identification to understand electrical stimulation effects in human brain networks. doi: https://doi.org/10.1101/2021.01.24.428020\n",
    "\n",
    "This Jupyter Notebook was written by Tal Pal Attia, Harvey Huang and Dora Hermes (2021)."
   ]
  },
  {
   "cell_type": "markdown",
   "metadata": {},
   "source": [
    "# Overview\n",
    "\n",
    "This notebook is a walk through of the methods presented in [Miller et al. (2021)](https://www.biorxiv.org/content/10.1101/2021.01.24.428020v1).\n",
    "\n",
    "**Abstract (Miller et al. 2021)**\n",
    "\n",
    "Brain networks can be explored by delivering brief pulses of electrical current in one area while measuring voltage responses in other areas. We propose a convergent paradigm to study brain dynamics, focusing on a single brain site to observe the average effect of stimulating each of many other brain sites. Viewed in this manner, visually-apparent motifs in the temporal response shape emerge from adjacent stimulation sites.\n",
    "\n",
    "This work constructs and illustrates a data-driven approach to determine characteristic spatiotemporal structure in these response shapes, summarized by a set of unique “basis profile curves” (BPCs). Each BPC may be mapped back to underlying anatomy in a natural way, quantifying projection strength from each stimulation site using simple metrics.\n",
    "\n",
    "Our technique is demonstrated for an array of implanted brain surface electrodes in a human patient. This framework enables straightforward interpretation of single-pulse brain stimulation data, and can be applied generically to explore the diverse milieu of interactions that comprise the connectome.\n"
   ]
  },
  {
   "cell_type": "markdown",
   "metadata": {},
   "source": [
    "# 1. Getting Started\n",
    "Before getting started, we need to make sure that you have the necessary software installed and data downloaded.\n",
    "\n",
    "## 1.1 Setting up the environment\n",
    "This notebook requires the following Python packages to be installed: [bpc-requirements.txt](./bpc-requirements.txt) \n",
    "\n",
    "\n",
    "To easy setup an enviroment for this toturial use this file:  [bpc-dev-env.sh](./bpc-dev-env.sh) \\\n",
    "Run from terminal: <code>bash bpc-dev-env.sh</code> \\\n",
    "or from this notebook: <code>!bash bpc-dev-env.sh</code>\n",
    "\n",
    "You can run the following cell to setup your environment for this tutorial, after running, refresh the page and make sure the bpc kernel is selected."
   ]
  },
  {
   "cell_type": "code",
   "execution_count": null,
   "metadata": {
    "scrolled": true
   },
   "outputs": [],
   "source": [
    "# creating the enviroment for this toturial and refreshing the notebook\n",
    "!bash bpc-dev-env.sh"
   ]
  },
  {
   "attachments": {
    "image-2.png": {
     "image/png": "[encoded data removed]"
    },
    "image.png": {
     "image/png": "[encoded data removed]"
    }
   },
   "cell_type": "markdown",
   "metadata": {},
   "source": [
    "## 1.1 Check whether the environment is setup\n",
    "Verify the kernel on the top right states bpc -\n",
    "\n",
    "![image.png](attachment:image.png)\n",
    "\n",
    "You may have to refresh the browser window.\n",
    "\n",
    "Then, go to kernel, change kernel and select bpc - \n",
    "\n",
    "![image-2.png](attachment:image-2.png)\n",
    "\n",
    "\n",
    "\n",
    "## 1.2 Importing python packages\n",
    "\n",
    "We use several Python packages, and the following allow us to work with the BIDS dataset in this notebook:\n",
    " - [PyBIDS](https://bids-standard.github.io/pybids/#) ([Yarkoni et al., 2019](https://joss.theoj.org/papers/10.21105/joss.01294)), a Python library to centralize interactions with BIDS datasets. For more information on BIDS, see: [https://bids.neuroimaging.io](https://bids.neuroimaging.io).\n",
    " - [Pymef](https://pymef.readthedocs.io/en/latest/index.html#), a wrapper library for Multiscale Electrophysiology Format (MEF). For more information on MEF, see: [https://readthedocs.org/projects/pymef/downloads/pdf/latest/](https://readthedocs.org/projects/pymef/downloads/pdf/latest/)"
   ]
  },
  {
   "cell_type": "code",
   "execution_count": null,
   "metadata": {},
   "outputs": [],
   "source": [
    "# packages importing\n",
    "import os\n",
    "\n",
    "# for scientific computing and data visualization \n",
    "import numpy as np\n",
    "import pandas as pd\n",
    "from scipy import signal\n",
    "import matplotlib.pyplot as plt\n",
    "import matplotlib.cm as cm\n",
    "from sklearn.decomposition import NMF\n",
    "import itertools\n",
    "from tqdm import tqdm\n",
    "\n",
    "# for handling neuroimaging data\n",
    "import bids\n",
    "bids.config.set_option('extension_initial_dot', True) # Disable extension_initial_dot branching\n",
    "from pymef.mef_session import MefSession\n",
    "from nilearn import plotting\n",
    "\n",
    "# for this tutorial\n",
    "import functions.helperFunctions as helper\n",
    "import functions.pyBPCs as pyBPCs\n",
    "\n",
    "%matplotlib inline"
   ]
  },
  {
   "cell_type": "markdown",
   "metadata": {},
   "source": [
    "# 2. Loading BIDS data \n",
    "\n",
    "We have included an example CCEP dataset that is formatted according to the Brain Imaging Data Structure (BIDS) dataset (1 subject) to work with in this tutorial.\n",
    "\n",
    "The example dataset includes an electrocorticography (ECoG) dataset with single pulse stimulation, and accompanying metadata, such as electrode positions, brain surface, stimulation events etc."
   ]
  },
  {
   "cell_type": "code",
   "execution_count": null,
   "metadata": {},
   "outputs": [],
   "source": [
    "# change this path to the full hardcoded BIDS data path to be analyzed\n",
    "BIDS_dataset_path = '' # '/full/path/to/Basis_profile_curve/data'"
   ]
  },
  {
   "cell_type": "markdown",
   "metadata": {},
   "source": [
    "## 2.1 Load BIDS metadata\n",
    "\n",
    "When we initialize a BIDSLayout, all of the files and metadata found under the specified root folder are indexed."
   ]
  },
  {
   "cell_type": "code",
   "execution_count": null,
   "metadata": {},
   "outputs": [],
   "source": [
    "# Initialize the layout\n",
    "layout = bids.BIDSLayout(BIDS_dataset_path)\n",
    "\n",
    "# Print some basic information about the layout\n",
    "print(layout)\n",
    "print('Subjects in this BIDS layout:', layout.get_subjects())\n",
    "\n",
    "all_files = layout.get()\n",
    "df_layout = layout.to_df()"
   ]
  },
  {
   "cell_type": "markdown",
   "metadata": {},
   "source": [
    "## 2.2 Select run to analyze\n",
    "\n",
    "User input regarding the subject, session and task to be analyzed:"
   ]
  },
  {
   "cell_type": "code",
   "execution_count": null,
   "metadata": {},
   "outputs": [],
   "source": [
    "# Change this to make sure it fits your data\n",
    "bids_sub = '01' # The subject label\n",
    "bids_ses = 'ieeg01' # The session label\n",
    "bids_task = 'ccep' # The task name\n",
    "bids_run = '01' # The run name\n",
    "bids_space = 'MNI152NLin6Sym' # The electrodes space"
   ]
  },
  {
   "cell_type": "markdown",
   "metadata": {},
   "source": [
    "Next we can load filenames and metadata files needed for this analysis from the BIDSLayout:"
   ]
  },
  {
   "cell_type": "code",
   "execution_count": null,
   "metadata": {},
   "outputs": [],
   "source": [
    "# Retrieve file names\n",
    "\n",
    "# pyBIDS does not yet support MEF3 data, we use the OS module.\n",
    "for (root, dirnames, _) in os.walk(BIDS_dataset_path):\n",
    "    for directory in dirnames:\n",
    "        if directory.endswith(\".mefd\"):\n",
    "             mefName = os.path.join(root, directory)\n",
    "# print('MEF data (.mefd) folder:',mefName)\n",
    "                \n",
    "dataJson = layout.get(subject=bids_sub,session=bids_ses,run=bids_run, task=bids_task,suffix='ieeg',extension=\"json\")[0]\n",
    "# print('\\nSidecar JSON (*_ieeg.json):',dataJson)\n",
    "\n",
    "channels_tsv_name = layout.get(subject=bids_sub,session=bids_ses,run=bids_run, task=bids_task,suffix='channels',extension = \"tsv\")[0]\n",
    "# print('\\nChannels description (*_channels.tsv):',channels_tsv_name)\n",
    "\n",
    "events_tsv_name = layout.get(subject=bids_sub,session=bids_ses,run=bids_run, task=bids_task,suffix='events',extension = \"tsv\")[0]\n",
    "# print('\\nevents_tsv_name:',events_tsv_name)\n",
    "\n",
    "electrodes_tsv_name = layout.get(subject=bids_sub,session=bids_ses,suffix='electrodes',space = bids_space,extension = \"tsv\")[0]\n",
    "# print('\\nElectrode description (*_electrodes.tsv):',electrodes_tsv_name)\n",
    "\n",
    "outDir = os.path.join(BIDS_dataset_path, 'derivatives/bpc')\n",
    "if not os.path.exists(outDir): # creat directory if needed\n",
    "    os.makedirs(outDir)\n",
    "# print('\\nOutput directory:',outDir)"
   ]
  },
  {
   "cell_type": "markdown",
   "metadata": {},
   "source": [
    "We use the pandas.DataFrame.head function to quickly test if our files have the expected data in them."
   ]
  },
  {
   "cell_type": "code",
   "execution_count": null,
   "metadata": {},
   "outputs": [],
   "source": [
    "df_channels = channels_tsv_name.get_df() #  Get file contents as a pandas DataFrame (only works for TSV files)\n",
    "df_channels.head()"
   ]
  },
  {
   "cell_type": "code",
   "execution_count": null,
   "metadata": {},
   "outputs": [],
   "source": [
    "df_events = events_tsv_name.get_df() #  Get file contents as a pandas DataFrame (only works for TSV files)\n",
    "df_events.head()"
   ]
  },
  {
   "cell_type": "code",
   "execution_count": null,
   "metadata": {},
   "outputs": [],
   "source": [
    "df_electrodes = electrodes_tsv_name.get_df() #  Get file contents as a pandas DataFrame (only works for TSV files)\n",
    "df_electrodes.head()"
   ]
  },
  {
   "cell_type": "markdown",
   "metadata": {},
   "source": [
    "## 2.3 Render brain surface\n",
    "\n",
    "Render electrode labels in MNI space on a standard brain (fsaverage5 mesh), this should open a separate browser window."
   ]
  },
  {
   "cell_type": "code",
   "execution_count": null,
   "metadata": {
    "scrolled": false
   },
   "outputs": [],
   "source": [
    "xyz_list = df_electrodes[['x', 'y','z']].values.tolist()\n",
    "electrodeName_list = df_electrodes[['name']].name.values.tolist()\n",
    "\n",
    "view = plotting.view_markers(marker_coords=xyz_list, marker_labels=electrodeName_list, marker_size=7.5,\n",
    "                             marker_color='red', title='Electrodes in MNI space rendered on a standard brain') # Insert a 3d plot of markers in a brain\n",
    "view.open_in_browser()"
   ]
  },
  {
   "cell_type": "markdown",
   "metadata": {},
   "source": [
    "# 3. Preprocessing data"
   ]
  },
  {
   "cell_type": "markdown",
   "metadata": {},
   "source": [
    "Look at the rendering with electrode labels and define the electrode of interest (e.g LMS2) and time window to be analyzed (e.g. -1,2)"
   ]
  },
  {
   "cell_type": "code",
   "execution_count": null,
   "metadata": {},
   "outputs": [],
   "source": [
    "# define electrode of interest\n",
    "el_interest = 'LMS2'\n",
    "# epoch_size\n",
    "epoch_limits = [-1,2]"
   ]
  },
  {
   "cell_type": "markdown",
   "metadata": {},
   "source": [
    "## 3.1 Loading metadata\n",
    "Because we have the data in BIDS, we can automatically pull information essential for analyses."
   ]
  },
  {
   "cell_type": "code",
   "execution_count": null,
   "metadata": {},
   "outputs": [],
   "source": [
    "# Get electrode of interest from channels.tsv \n",
    "el_interest_nr = df_channels.loc[df_channels['name'] == el_interest]\n",
    "\n",
    "# Sampling rate from sidecar JSON (*_ieeg.json).\n",
    "dict_dataJson = dataJson.get_dict()\n",
    "srate = dict_dataJson[\"SamplingFrequency\"]\n",
    "\n",
    "# Construct a time vector\n",
    "tt = pyBPCs.create_time_vector(epoch_limits,srate)\n",
    "\n",
    "# Number of trials with electrical stimulation, good and not stimulating electrode of interest\n",
    "df_include_trials = df_events.loc[(df_events[\"trial_type\"]=='electrical_stimulation') &\n",
    "                               (df_events[\"status\"]=='good') &\n",
    "                               (~df_events[\"electrical_stimulation_site\"].str.contains(el_interest))]\n",
    "# df_include_trials.head()\n",
    "\n",
    "# Filter channels to select good channels.\n",
    "df_good_channels = df_channels[df_channels.status == 'good']\n",
    "# df_good_channels.head()\n",
    "\n",
    "# All Pymef operations are handled through pymef.mef_session.MefSession.\n",
    "session_path = mefName # path (absolute or relative) to the MEF3 session folder\n",
    "password = '' # Pass empty string/variable if not encrypted \n",
    "# Either for reading\n",
    "ms = MefSession(session_path, password)\n",
    "\n",
    "# To obtain information about time series channels we can use the Pymef function read_ts_channel_basic_info()\n",
    "# ms.read_ts_channel_basic_info()"
   ]
  },
  {
   "attachments": {
    "image.png": {
     "image/png": "[encoded data removed]"
    }
   },
   "cell_type": "markdown",
   "metadata": {},
   "source": [
    "## 3.2 Calculate convergent Matrix V\n",
    "\n",
    "The convergent paradigm calculated all the different CCEPs arriving in one electrode from stimulating others. start running the following cell (takes a few minutes), while discussing these points: \n",
    "\n",
    "![image.png](attachment:image.png)\n",
    "\n",
    "Now, we can iterate through all trials (with electrical stimulation, no artifacts and not stimulating electrode of interest)\n",
    "* Rereferencing is tailored to these CCEP data, using the custom function ccep_CAR64blocks() (in functions/pyBPCs.py) - The function ccep_CAR64blocks() applies common average referencing on CCEP data, excludes two types of channels from the common average:\n",
    "     * excludes channels with high variance from 500-2000 ms after stimulation onset these are channels with large stimulation artifacts.\n",
    "     * excludes channels with high variance from 10-100 ms after stimulation onset these are channels with large evoked responses.\n",
    "     \n",
    "     Note: The function assumes that noise is shared between blocks of 64 channels. "
   ]
  },
  {
   "cell_type": "code",
   "execution_count": null,
   "metadata": {
    "scrolled": true,
    "tags": []
   },
   "outputs": [],
   "source": [
    "df_cceps = pd.DataFrame(columns = ['ccep_name_1','ccep_num_1','ccep_status_1','ccep_name_2','ccep_num_2','ccep_status_2'])\n",
    "V_pre=[] # single-trial stimulation-evoked voltage matrix\n",
    "\n",
    "for index, row in tqdm(df_include_trials.iloc[:].iterrows(), desc='Included trials', total=df_include_trials.shape[0]):\n",
    "    \n",
    "    df_data = pd.DataFrame(columns = ['channel','data']) # dataframe for mef3 data\n",
    "    samples = [row.onset*srate+element*srate for element in epoch_limits] # get start and end samples\n",
    "    # Read mef3 data\n",
    "    for channel in df_electrodes.name:\n",
    "        data = ms.read_ts_channels_sample(channel, [samples]) # Returns 1D numpy array with data from sample X to sample Y\n",
    "        curr_channel = {'channel': channel, 'data': data,}\n",
    "        df_data = df_data.append(curr_channel,ignore_index = True) # append to mef3 data dataframe\n",
    "    \n",
    "    # Split channels into 64 channel blocks, noise is shared between these groups\n",
    "    df_data['groupNum']=''\n",
    "    for inx, r in df_data.iterrows():\n",
    "        group = inx // 64\n",
    "        df_data['groupNum'].loc[inx]=group\n",
    "    \n",
    "    # Get stimulated channels\n",
    "    trial_ccep_names = row.electrical_stimulation_site.split(\"-\")\n",
    "    curr_ccep = {'ccep_name_1':trial_ccep_names[0],\n",
    "                 'ccep_num_1':df_channels.index[df_channels['name'] == trial_ccep_names[0]].tolist()[0],\n",
    "                 'ccep_status_1': df_channels['status'][df_channels.index[df_channels['name'] == trial_ccep_names[0]].tolist()[0]],\n",
    "                 'ccep_name_2':trial_ccep_names[1],\n",
    "                 'ccep_num_2':df_channels.index[df_channels['name'] == trial_ccep_names[1]].tolist()[0],\n",
    "                 'ccep_status_2': df_channels['status'][df_channels.index[df_channels['name'] == trial_ccep_names[1]].tolist()[0]],\n",
    "                }\n",
    "    df_cceps = df_cceps.append(curr_ccep,ignore_index = True)\n",
    "\n",
    "    # Delete current electrical stimulation site from dataFrame\n",
    "    curr_indexes = df_good_channels[(df_good_channels['name']==curr_ccep['ccep_name_1']) | (df_good_channels['name']==curr_ccep['ccep_name_2'])].index\n",
    "    df_incl_channels = df_good_channels[~df_good_channels.index.isin(curr_indexes)]\n",
    "    \n",
    "    # Run the custom function ccep_CAR64blocks() in functions/pyBPCs.py\n",
    "    df_data_CAR = pyBPCs.ccep_CAR64blocks(df_data,tt,df_incl_channels)\n",
    "    \n",
    "    # append to single-trial stimulation-evoked voltage matrix\n",
    "    V_pre.append((df_data_CAR[df_data_CAR['channel']==el_interest]['data'].values)[0])"
   ]
  },
  {
   "cell_type": "markdown",
   "metadata": {},
   "source": [
    "## 3.3 Plot convergent matrix"
   ]
  },
  {
   "cell_type": "code",
   "execution_count": null,
   "metadata": {},
   "outputs": [],
   "source": [
    "plt.figure(figsize=(10, 8), dpi=80)\n",
    "plt.imshow(V_pre, aspect='auto',extent=helper.extents(tt) + helper.extents(df_include_trials.index))\n",
    "plt.clim(-1000, 1000)\n",
    "plt.ylabel('Stimulation trial index (k)')\n",
    "plt.xlabel('Time from stimulation (s)')\n",
    "plt.title('Convergent Matrix (V)',fontsize= 15)\n",
    "plt.colorbar()"
   ]
  },
  {
   "cell_type": "markdown",
   "metadata": {},
   "source": [
    "# 4. Calculate BPCs\n",
    "\n",
    "Identifying basis profile curves (BPCs) that group characteristic shapes in the convergent CCEPs.\n",
    "\n",
    "## 4.1 Select time-frame for BPC extraction"
   ]
  },
  {
   "cell_type": "code",
   "execution_count": null,
   "metadata": {
    "scrolled": true,
    "tags": []
   },
   "outputs": [],
   "source": [
    "# select the epoch times to enter in the BPC analyses\n",
    "BPCs_epoch = [0.05,1]"
   ]
  },
  {
   "cell_type": "markdown",
   "metadata": {},
   "source": [
    "## 4.2 Calculate the significance matrix"
   ]
  },
  {
   "cell_type": "code",
   "execution_count": null,
   "metadata": {},
   "outputs": [],
   "source": [
    "# V: single-trial stimulation-evoked voltage matrix (Dimensions of V are with K total stimulation events by T total timepoints)\n",
    "# tt_BPCs: BPCs time vector\n",
    "V,tt_BPCs = pyBPCs.bpcVoltage(V_pre,tt,BPCs_epoch) # take only Voltage at BPC times\n",
    "\n",
    "# pair_types: structure with subgroups of stimulation pairs, with fields\n",
    "#    ccep_name_1, ccep_name_2: electrodes associated with the pair, cathode-anode ordering\n",
    "#    indices: indices of subgroup in V matrix (out of K total stims)\n",
    "\n",
    "pair_types = df_cceps.groupby(['ccep_name_1','ccep_num_1','ccep_name_2','ccep_num_2']).size().reset_index().rename(columns={0:'count'})\n",
    "pair_types = pair_types.sort_values(by=['ccep_num_1']) \n",
    "pair_types['indices']=''\n",
    "\n",
    "for index, row in pair_types.iterrows():\n",
    "    indices = df_cceps.index[(df_cceps['ccep_name_1']== row['ccep_name_1']) & (df_cceps['ccep_name_2']== row['ccep_name_2'])].tolist()\n",
    "    pair_types['indices'].loc[index]= indices\n",
    "\n",
    "pair_types = pair_types.reset_index(drop=True)\n",
    "# pair_types.head()\n",
    "\n",
    "### calcuate\n",
    "V0= V/(np.ones((V.shape[0], 1)) * (np.sum(V**2,axis=0)**0.5)) # normalize (L2 norm) each trial\n",
    "P=V0.T @ V # calculate internal projections\n",
    "\n",
    "tmat = pyBPCs.nativeNormalized(pair_types,P)"
   ]
  },
  {
   "cell_type": "markdown",
   "metadata": {},
   "source": [
    "Set of native normalized single stimulation cross-projections"
   ]
  },
  {
   "cell_type": "code",
   "execution_count": null,
   "metadata": {},
   "outputs": [],
   "source": [
    "plt.figure(figsize=(10, 8), dpi=80)\n",
    "plt.imshow(tmat,aspect='auto') # Plot a matrix or an array as an image.\n",
    "plt.clim(0, 10)\n",
    "plt.ylabel('stimulation pair subgroup')\n",
    "plt.xlabel('stimulation pair subgroup')\n",
    "plt.title('Significance matrix '+r'$\\Xi$',fontsize= 15)\n",
    "plt.colorbar()"
   ]
  },
  {
   "cell_type": "markdown",
   "metadata": {},
   "source": [
    "### Iteratively decrease inner components of non-negative matrix factorization\n",
    "\n",
    "Default settings and intialization"
   ]
  },
  {
   "cell_type": "code",
   "execution_count": null,
   "metadata": {},
   "outputs": [],
   "source": [
    "# number of cluster dimensions\n",
    "cl_dim = 10\n",
    "    \n",
    "# number of iterations to re-run NNMF - because can get suboptimal factorization due to non-unique nature of NNMF (starts out with a random matrix)\n",
    "num_reruns = 20\n",
    "\n",
    "# convergence threshold: 1e-5\n",
    "conv_thresh = 0.00001\n",
    "\n",
    "t0 = tmat\n",
    "t0[t0 < 0] = 0 # factorize t-matrix, but first make non-negative\n",
    "\n",
    "# Globally rescale data to avoid potential overflow/underflow\n",
    "t0_scaled = t0/(np.max(t0))    \n",
    "\n",
    "nnmf_xcorr_score = 100; # start off-diagonal penalty score out with high value\n",
    "\n",
    "WH_struct = pd.DataFrame(columns=['W','H','nnmf_xcorr_score']) # saving structure"
   ]
  },
  {
   "cell_type": "markdown",
   "metadata": {},
   "source": [
    "Using sklearn Non-Negative Matrix Factorization (NMF) to find two non-negative matrices (W, H) whose product approximates the factorize, non-negative and rescaled matrix (t0_scaled)."
   ]
  },
  {
   "cell_type": "code",
   "execution_count": null,
   "metadata": {
    "scrolled": true,
    "tags": []
   },
   "outputs": [],
   "source": [
    "while nnmf_xcorr_score>.5:\n",
    "    \n",
    "    cl_dim = cl_dim-1 # reduce number of inner dimensions\n",
    "    \n",
    "    if cl_dim == 0:\n",
    "        break\n",
    "\n",
    "    # multiple run-throughs of  nnmf\n",
    "    tmp_mat_W = []\n",
    "    tmp_mat_H = []\n",
    "    tmp_err = []\n",
    "\n",
    "    for k in range(num_reruns):\n",
    "\n",
    "        model = NMF(n_components=cl_dim, init='random', solver='mu',tol=conv_thresh,max_iter=10000)\n",
    "        W = model.fit_transform(t0_scaled)\n",
    "        tmp_mat_W.insert(k, W)\n",
    "    \n",
    "        H = model.components_\n",
    "        tmp_mat_H.insert(k, H)\n",
    "\n",
    "        rec_err = model.reconstruction_err_\n",
    "        tmp_err.insert(k, rec_err)\n",
    "\n",
    "    # select factorization with smallest error\n",
    "    k_ind = np.argmin(tmp_err)    \n",
    "    W_min = tmp_mat_W[k_ind]\n",
    "    H_min = tmp_mat_H[k_ind]\n",
    "\n",
    "    # Normalize so rows of H have unit norm\n",
    "    Hnorms = np.sqrt(np.sum(H_min.T**2,axis=0))\n",
    "    Hnorms_ = (np.reshape(np.tile(Hnorms.T, t0_scaled.shape[1]),(-1, Hnorms.shape[0]))).T\n",
    "    H_min = H_min/Hnorms_\n",
    "\n",
    "    # Score for this decomposition - off diagonal element weights\n",
    "    HHT=H_min @ H_min.T\n",
    "    HHT_triu = np.triu(HHT,1)\n",
    "    HHT_triu_reshaped = np.reshape(HHT_triu,(1,-1))\n",
    "    nnmf_xcorr_score = np.max(np.reshape(HHT_triu,(1,-1))) # max of nonnegative matrix factorization component interdependencies\n",
    "    print('Inner dimension: ', cl_dim, ', off diagonal score: ',nnmf_xcorr_score)\n",
    "\n",
    "    # save matrices and scores for plotting later\n",
    "    WH_struct = WH_struct.append({'W': W_min, 'H': H_min,'nnmf_xcorr_score':nnmf_xcorr_score}, ignore_index=True)"
   ]
  },
  {
   "cell_type": "markdown",
   "metadata": {},
   "source": [
    "##### Winner take all"
   ]
  },
  {
   "cell_type": "code",
   "execution_count": null,
   "metadata": {},
   "outputs": [],
   "source": [
    "# winner take all on columns of H and then threshold by 1/(2*sqrt(length(pair_types))) -- since all equal would be 1/sqrt(length(pair_types))\n",
    "H0=0*H_min\n",
    "\n",
    "for k in range(len(pair_types)):\n",
    "    k_ind=np.argmax(H_min,axis=0)[k]\n",
    "    H0[k_ind][k]=H_min[k_ind][k]\n",
    "\n",
    "H0_ = H0>1/(2*np.sqrt(len(pair_types)))"
   ]
  },
  {
   "cell_type": "markdown",
   "metadata": {},
   "source": [
    "### Find clusters of stimulation pair groups\n",
    "\n",
    "Find clusters of stimulation pair groups from those that aren't dramatically distinguishable from one another (after BF correction)"
   ]
  },
  {
   "cell_type": "code",
   "execution_count": null,
   "metadata": {},
   "outputs": [],
   "source": [
    "B = []\n",
    "B_struct=pd.DataFrame(columns=['curve','pairs']) # saving structure\n",
    "\n",
    "for q in range(H0.shape[0]):\n",
    "    cl_pg = np.where(H0_[q]) # cluster pair groups\n",
    "    cl_inds=[] # cluster indices (e.g. concatenated trials from cluster pair groups)\n",
    "    for k in cl_pg:\n",
    "        for i in (pair_types['indices'][k]).values:\n",
    "            cl_inds.extend(i)\n",
    "\n",
    "    V_tmp = V[:,cl_inds]\n",
    "\n",
    "    E = pyBPCs.kpca(V_tmp)\n",
    "    B_tmp = E[:,0] # basis vector is 1st PC\n",
    "\n",
    "    if np.mean(B_tmp.T @ V_tmp)<0:\n",
    "        B_tmp = -B_tmp\n",
    "    \n",
    "    B_struct = B_struct.append({'curve': B_tmp, 'pairs':cl_pg[0]}, ignore_index=True)\n",
    "    \n",
    "# pairs not represented by any basis\n",
    "excluded_pairs = np.where(1-(np.sum(H0_,axis=0)))"
   ]
  },
  {
   "cell_type": "markdown",
   "metadata": {},
   "source": [
    "Calculate statistics for each basis curve, eliminating those where there is no significant representation"
   ]
  },
  {
   "cell_type": "code",
   "execution_count": null,
   "metadata": {
    "scrolled": true,
    "tags": []
   },
   "outputs": [],
   "source": [
    "B_struct = pyBPCs.curvesStatistics(B_struct,V,B,pair_types)"
   ]
  },
  {
   "cell_type": "markdown",
   "metadata": {},
   "source": [
    "Calculate projection weights"
   ]
  },
  {
   "cell_type": "code",
   "execution_count": null,
   "metadata": {
    "scrolled": true
   },
   "outputs": [],
   "source": [
    "B_struct = pyBPCs.projectionWeights(B_struct)"
   ]
  },
  {
   "cell_type": "markdown",
   "metadata": {},
   "source": [
    "## Plot Calculated BPCs"
   ]
  },
  {
   "cell_type": "code",
   "execution_count": null,
   "metadata": {},
   "outputs": [],
   "source": [
    "colors = iter(cm.tab10(np.linspace(0, 1, 10)))\n",
    "\n",
    "plt.figure(figsize=(10, 8), dpi=80)\n",
    "for q in range(len(B_struct)): #  cycle through basis curves\n",
    "    plt.plot(tt[tt_BPCs[0]:tt_BPCs[1]],B_struct.curve[q],color=next(colors))\n",
    "    \n",
    "plt.ylabel('Time from stimulation')\n",
    "plt.xlabel('Normalized weight of B.P.C.')\n",
    "plt.title('Calculated BPCs',fontsize= 15)"
   ]
  },
  {
   "cell_type": "markdown",
   "metadata": {},
   "source": [
    "## B_struct_brainplot"
   ]
  },
  {
   "cell_type": "code",
   "execution_count": null,
   "metadata": {},
   "outputs": [],
   "source": [
    "marker_colors = [] # marker_color array\n",
    "marker_sizes = [] # marker_size array\n",
    "\n",
    "# all electrodes\n",
    "xyz = df_electrodes[['x', 'y','z']]\n",
    "xyz_list = xyz.values.tolist()\n",
    "electrodeName_list = df_electrodes[['name']].name.values.tolist()\n",
    "for cords in xyz_list:\n",
    "    marker_colors.append('white')\n",
    "    marker_sizes.append(7.5)\n",
    "\n",
    "# non-significant stim pair sites\n",
    "xyz_excluded_pairs_list = xyz.iloc[excluded_pairs[0]].values.tolist()\n",
    "electrodeName_excluded_pairs_list = df_electrodes[['name']].iloc[excluded_pairs[0]].name.values.tolist()\n",
    "for cords in xyz_excluded_pairs_list:\n",
    "    marker_colors.append('gray')\n",
    "    marker_sizes.append(7.5)\n",
    "\n",
    "xyz_all = [y for x in [xyz_list, xyz_excluded_pairs_list] for y in x]\n",
    "\n",
    "pair_types['interpolated_locs']=''\n",
    "\n",
    "for index, row in pair_types.iterrows():\n",
    "    xyz_1 = xyz.iloc[pair_types.ccep_num_1[index]].values.tolist()\n",
    "    xyz_2 = xyz.iloc[pair_types.ccep_num_2[index]].values.tolist()\n",
    "    pair_types.interpolated_locs[index]=np.mean((xyz_1,xyz_2),axis=0).tolist()\n",
    "\n",
    "# plot BPCs, colored\n",
    "colors = iter(cm.tab10(np.linspace(0, 1, 10)))\n",
    "\n",
    "for q in range(B_struct.shape[0]):\n",
    "    # get electrodes for BPC\n",
    "    xyz_BPC_list = pair_types.interpolated_locs[B_struct.pairs[q]].tolist()\n",
    "    xyz_all = [y for x in [xyz_all, xyz_BPC_list] for y in x]\n",
    "    plotweights = B_struct.plotweights[q]\n",
    "    curr_color = next(colors)\n",
    "    for ind_cords in range(len(xyz_BPC_list)):\n",
    "        marker_colors.append(curr_color)\n",
    "        marker_sizes.append(B_struct.plotweights[q][ind_cords]*25)\n",
    "\n",
    "# plot all\n",
    "view = plotting.view_markers(marker_coords=xyz_all,marker_size=marker_sizes, # marker_labels=electrodeName_list,\n",
    "                             marker_color=marker_colors, title='Electrodes in MNI space rendered on a standard brain') # Insert a 3d plot of markers in a brain\n",
    "view.open_in_browser()"
   ]
  }
 ],
 "metadata": {
  "kernelspec": {
   "display_name": "bpc",
   "language": "python",
   "name": "bpc"
  },
  "language_info": {
   "codemirror_mode": {
    "name": "ipython",
    "version": 3
   },
   "file_extension": ".py",
   "mimetype": "text/x-python",
   "name": "python",
   "nbconvert_exporter": "python",
   "pygments_lexer": "ipython3",
   "version": "3.8.5"
  }
 },
 "nbformat": 4,
 "nbformat_minor": 4
}
